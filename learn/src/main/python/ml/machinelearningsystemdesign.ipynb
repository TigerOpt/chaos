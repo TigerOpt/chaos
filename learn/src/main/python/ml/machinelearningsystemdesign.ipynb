{
 "cells": [
  {
   "cell_type": "markdown",
   "metadata": {},
   "source": [
    "# 机器学习系统设计流程\n",
    "![机器学习系统设计流程](image.png)\n",
    "1、陈述问题\n",
    "2、确定指标  eg：用于二元分类的 logloss 和 AUC ，或用于预测的 RMSE 和 MAPE 。\n",
    "3、识别需求\n",
    "4、训练并评估模型 - 通常有三个组成部分：特征工程、特征选择和模型\n",
    "5、设计高级系统\n",
    "6、扩展设计\n",
    "\n",
    "# 特征选择和特征工程\n",
    "1、独热编码\n",
    "what？\n",
    "将分类变量转换为独热数字数组\n",
    "\n",
    "![独热编码示例](image-1.png)\n",
    "\n",
    "Disadvantages：\n",
    "a、计算量大、内存消耗高\n",
    "b、不适合自然语言处理任务\n",
    "最佳实践\n",
    "a、根据应用情况，一些不重要的级别/类别可以分组到“其他”类中。\n",
    "b、确保管道可以处理测试集中未见的数据。\n",
    "\n",
    "2、特征哈希\n",
    "what？\n",
    "将具有高基数的文本数据或分类属性转换为任意维的特征向量。\n",
    "benefits：\n",
    "对于具有数百和数千个唯一值且基数较高的特征，特征散列非常有用。散列技巧是一种通过允许多个值存在/编码为相同值来减少维度和内存增加的方法。\n",
    "example\n",
    "选择特征向量的维度->使用哈希函数，将分类属性的所有值转换为数字->将该数字转换为特征向量的索引\n",
    "\n",
    "![特征哈希示例](image-2.png)\n",
    "\n",
    "解释：“The quick brown fox”中每个单词值初始如下\n",
    "```\n",
    "the = 5\n",
    "quick = 4\n",
    "brown = 4\n",
    "fox = 3\n",
    "```\n",
    "我们定义一个哈希函数h，设置所需维度为5\n",
    "```\n",
    "h(the) mod 5 = 0   # 特征向量的 0 维中有一个单词。\n",
    "h(quick) mod 5 = 4 # 在特征向量的 4 维中有两个词\n",
    "h(brown) mod 5 = 4\n",
    "h(fox) mod 5 = 3 # 在特征向量的第 3 维中有一个单词\n",
    "```\n",
    "以上，最终我们会得到一个特征向量[1,0,0,1,2]\n",
    "<p>常用的哈希函数有 MurmurHash3、Jenkins、CityHash、MD5。\n",
    "主要问题：\n",
    "a、哈希的一个问题是碰撞。如果哈希太小，则会发生更多碰撞并对模型性能产生负面影响。另一方面，哈希大小越大，消耗的内存就越多。\n",
    "b、冲突也会影响模型性能。如果冲突率高，模型将无法区分特征值之间的系数。\n",
    "\n",
    "3、交叉特征\n",
    "\n",
    "4、嵌入\n",
    "特征嵌入是一种新兴技术，旨在将特征从原始空间转换到新空间以支持有效的机器学习。嵌入的目的是捕捉特征的语义含义；例如，相似的特征在嵌入向量空间中会彼此接近。\n",
    "\n",
    "5、数字特征\n",
    "\n",
    "# 训练管道\n",
    "1、数据分区\n",
    "2、处理类别分布不平衡\n",
    "3、选择正确的损失函数\n",
    "4、重新训练\n",
    "\n",
    "# 推理\n"
   ]
  },
  {
   "cell_type": "markdown",
   "metadata": {},
   "source": [
    "# Youtube推荐\n",
    "## 问题陈述\n",
    "为 YouTube 用户构建视频推荐系统。我们希望最大限度地提高用户的参与度，并向用户推荐新类型的内容。\n",
    "![视频推荐系统](image-3.png)\n",
    "## 指标\n",
    "离线指标：精度、召回率、ranking loss、logloss\n",
    "在线指标：使用 A/B 测试来比较点击率、观看时间和转化率。\n",
    "## 需求\n",
    "### 训练\n",
    "用户行为通常难以预测，视频可能会在一天内迅速走红。理想情况下，我们希望在一天内进行多次训练，以捕捉时间变化。\n",
    "### 推理\n",
    "a、对于每个访问主页的用户，系统必须为其推荐 100 个视频。延迟需要低于 200 毫秒，理想情况下低于 100 毫秒。\n",
    "b、对于在线推荐，重要的是找到探索与利用之间的平衡。如果模型过度利用历史数据，新视频可能不会被展示给用户。我们希望在相关性和新鲜内容之间取得平衡。\n",
    "## 候选生成\n",
    "![架构图](image-4.png)\n",
    "## 排序\n"
   ]
  },
  {
   "cell_type": "code",
   "execution_count": 3,
   "metadata": {},
   "outputs": [
    {
     "data": {
      "text/plain": [
       "2.0794415416798357"
      ]
     },
     "execution_count": 3,
     "metadata": {},
     "output_type": "execute_result"
    }
   ],
   "source": [
    "import math\n",
    "-math.log(0.7) - math.log(0.7) - math.log(0.33)\n",
    "-math.log(0.5) - math.log(0.5) - math.log(0.5)"
   ]
  }
 ],
 "metadata": {
  "kernelspec": {
   "display_name": "Python 3",
   "language": "python",
   "name": "python3"
  },
  "language_info": {
   "codemirror_mode": {
    "name": "ipython",
    "version": 3
   },
   "file_extension": ".py",
   "mimetype": "text/x-python",
   "name": "python",
   "nbconvert_exporter": "python",
   "pygments_lexer": "ipython3",
   "version": "3.12.9"
  }
 },
 "nbformat": 4,
 "nbformat_minor": 2
}
